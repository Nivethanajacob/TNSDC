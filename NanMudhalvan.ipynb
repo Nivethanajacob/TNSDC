{
  "nbformat": 4,
  "nbformat_minor": 0,
  "metadata": {
    "colab": {
      "provenance": []
    },
    "kernelspec": {
      "name": "python3",
      "display_name": "Python 3"
    },
    "language_info": {
      "name": "python"
    }
  },
  "cells": [
    {
      "cell_type": "code",
      "execution_count": 1,
      "metadata": {
        "colab": {
          "base_uri": "https://localhost:8080/"
        },
        "id": "CDfkDQoKo0Hi",
        "outputId": "1b338c36-7408-452f-fdab-499a034b1067"
      },
      "outputs": [
        {
          "output_type": "stream",
          "name": "stdout",
          "text": [
            "Epoch 1/10\n",
            "25/25 [==============================] - 2s 20ms/step - loss: 0.1273 - mae: 0.2931 - val_loss: 0.0926 - val_mae: 0.2622\n",
            "Epoch 2/10\n",
            "25/25 [==============================] - 0s 5ms/step - loss: 0.0900 - mae: 0.2546 - val_loss: 0.0884 - val_mae: 0.2547\n",
            "Epoch 3/10\n",
            "25/25 [==============================] - 0s 4ms/step - loss: 0.0858 - mae: 0.2498 - val_loss: 0.0871 - val_mae: 0.2541\n",
            "Epoch 4/10\n",
            "25/25 [==============================] - 0s 4ms/step - loss: 0.0844 - mae: 0.2481 - val_loss: 0.0871 - val_mae: 0.2540\n",
            "Epoch 5/10\n",
            "25/25 [==============================] - 0s 4ms/step - loss: 0.0827 - mae: 0.2461 - val_loss: 0.0878 - val_mae: 0.2559\n",
            "Epoch 6/10\n",
            "25/25 [==============================] - 0s 5ms/step - loss: 0.0817 - mae: 0.2446 - val_loss: 0.0877 - val_mae: 0.2553\n",
            "Epoch 7/10\n",
            "25/25 [==============================] - 0s 5ms/step - loss: 0.0822 - mae: 0.2444 - val_loss: 0.0880 - val_mae: 0.2558\n",
            "Epoch 8/10\n",
            "25/25 [==============================] - 0s 4ms/step - loss: 0.0809 - mae: 0.2436 - val_loss: 0.0877 - val_mae: 0.2562\n",
            "Epoch 9/10\n",
            "25/25 [==============================] - 0s 4ms/step - loss: 0.0802 - mae: 0.2423 - val_loss: 0.0890 - val_mae: 0.2584\n",
            "Epoch 10/10\n",
            "25/25 [==============================] - 0s 5ms/step - loss: 0.0797 - mae: 0.2419 - val_loss: 0.0873 - val_mae: 0.2551\n",
            "7/7 [==============================] - 0s 3ms/step - loss: 0.0873 - mae: 0.2551\n",
            "Test Loss: 0.08729155361652374\n",
            "Test MAE: 0.25513574481010437\n"
          ]
        }
      ],
      "source": [
        "import numpy as np\n",
        "import tensorflow as tf\n",
        "from sklearn.model_selection import train_test_split\n",
        "features = np.random.rand(1000, 10)\n",
        "labels = np.random.rand(1000, 2)\n",
        "X_train, X_test, y_train, y_test = train_test_split(features, labels, test_size=0.2, random_state=42)\n",
        "model = tf.keras.Sequential([\n",
        "    tf.keras.layers.Dense(64, activation='relu', input_shape=(10,)),\n",
        "    tf.keras.layers.Dense(32, activation='relu'),\n",
        "    tf.keras.layers.Dense(2)\n",
        "])\n",
        "model.compile(optimizer='adam', loss='mse', metrics=['mae'])\n",
        "model.fit(X_train, y_train, epochs=10, batch_size=32, validation_data=(X_test, y_test))\n",
        "loss, mae = model.evaluate(X_test, y_test)\n",
        "print(\"Test Loss:\", loss)\n",
        "print(\"Test MAE:\", mae)"
      ]
    }
  ]
}